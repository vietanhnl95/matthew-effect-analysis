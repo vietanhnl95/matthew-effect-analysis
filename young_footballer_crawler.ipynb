{
 "cells": [
  {
   "cell_type": "code",
   "execution_count": 147,
   "metadata": {},
   "outputs": [],
   "source": [
    "from bs4 import BeautifulSoup\n",
    "import requests\n",
    "import pandas as pd\n",
    "import warnings\n",
    "warnings.filterwarnings('ignore')\n",
    "\n",
    "import re\n",
    "from datetime import datetime\n",
    "\n",
    "import matplotlib.pyplot as plt\n",
    "import seaborn as sns\n",
    "sns.set_style('whitegrid')"
   ]
  },
  {
   "cell_type": "markdown",
   "metadata": {},
   "source": [
    "# Crawl Data"
   ]
  },
  {
   "cell_type": "code",
   "execution_count": 136,
   "metadata": {},
   "outputs": [],
   "source": [
    "def scrape(sites: list, \n",
    "           columns: list,\n",
    "           tr_offset_first=None, \n",
    "           tr_offset_last=None,\n",
    "           td_offset_first=None,\n",
    "           td_offset_last=None):\n",
    "    \n",
    "    dfs = []\n",
    "    \n",
    "    for site in sites:\n",
    "        # Make request\n",
    "        response = requests.get(site['url'])\n",
    "        content = response.content.decode('utf-8')\n",
    "\n",
    "        # Make soup \n",
    "        soup = BeautifulSoup(content, 'html.parser')\n",
    "\n",
    "        # Get table\n",
    "        table = soup.find('span', {'id': site['table_id']}).find_next('table')\n",
    "\n",
    "        # Get rows\n",
    "        trs = table.find_all('tr')[tr_offset_first : tr_offset_last]\n",
    "\n",
    "        # Get values\n",
    "        results = []\n",
    "        for tr in trs:\n",
    "            # init new dict\n",
    "            result = {}\n",
    "\n",
    "            # get value list\n",
    "            tds = tr.find_all('td')[td_offset_first : td_offset_last]\n",
    "\n",
    "            for k, td in zip(columns, tds):\n",
    "                result[k] = td.text.strip()\n",
    "\n",
    "            # append to master result\n",
    "            results.append(result)\n",
    "\n",
    "        # Convert to DataFrame\n",
    "        df = pd.DataFrame(results)\n",
    "        df['country'] = site['country']\n",
    "        dfs.append(df)\n",
    "        \n",
    "    df = pd.concat(dfs)\n",
    "    df = df.reset_index(drop=True)\n",
    "    df = df[df['dob'].isnull()==False]\n",
    "    df = df[df['dob']!='']\n",
    "        \n",
    "    return df"
   ]
  },
  {
   "cell_type": "code",
   "execution_count": 137,
   "metadata": {},
   "outputs": [
    {
     "data": {
      "text/plain": [
       "127"
      ]
     },
     "execution_count": 137,
     "metadata": {},
     "output_type": "execute_result"
    }
   ],
   "source": [
    "sites = [\n",
    "    {'url': 'https://en.wikipedia.org/wiki/Brazil_national_under-17_football_team',\n",
    "     'table_id': 'Current_squad',\n",
    "     'country': 'Brazil'},\n",
    "    {'url': 'https://en.wikipedia.org/wiki/England_national_under-17_football_team',\n",
    "     'table_id': 'Players',\n",
    "     'country': 'England'},\n",
    "    {'url': 'https://en.wikipedia.org/wiki/Germany_national_youth_football_team',\n",
    "     'table_id': 'Germany_national_under-17_squad',\n",
    "     'country': 'Germany'},\n",
    "    {'url': 'https://en.wikipedia.org/wiki/Italy_national_under-17_football_team',\n",
    "     'table_id': 'Current_squad',\n",
    "     'country': 'Italy'},\n",
    "    {'url': 'https://en.wikipedia.org/wiki/France_national_under-17_football_team',\n",
    "     'table_id': 'Current_squad',\n",
    "     'country': 'France'},\n",
    "    {'url': 'https://en.wikipedia.org/wiki/Portugal_national_under-17_football_team',\n",
    "     'table_id': 'Current_squad',\n",
    "     'country': 'Portugal'},\n",
    "    {'url': 'https://en.wikipedia.org/wiki/Vietnam_national_under-17_football_team',\n",
    "     'table_id': 'Current_squad', \n",
    "     'country': 'Vietnam'},\n",
    "]\n",
    "\n",
    "df = scrape(sites=sites,\n",
    "            columns=['position', 'dob'],\n",
    "            tr_offset_first=1,\n",
    "            td_offset_first=1,\n",
    "            td_offset_last=3)\n",
    "\n",
    "len(df)"
   ]
  },
  {
   "cell_type": "markdown",
   "metadata": {},
   "source": [
    "# Process Data"
   ]
  },
  {
   "cell_type": "code",
   "execution_count": 145,
   "metadata": {},
   "outputs": [],
   "source": [
    "def convert_date(text):\n",
    "    # find dob in format yyyy-mm-dd\n",
    "    dob = re.findall('\\d+-\\d+-\\d+', text)[0]\n",
    "    \n",
    "    # convert to datetime\n",
    "    date_converted = datetime.strptime(dob, '%Y-%m-%d')\n",
    "    \n",
    "    return date_converted"
   ]
  },
  {
   "cell_type": "code",
   "execution_count": 139,
   "metadata": {},
   "outputs": [],
   "source": [
    "df['dob_converted'] = df['dob'].apply(convert_date)"
   ]
  },
  {
   "cell_type": "code",
   "execution_count": 140,
   "metadata": {},
   "outputs": [],
   "source": [
    "df['mob'] = pd.DatetimeIndex(df['dob_converted']).month"
   ]
  },
  {
   "cell_type": "code",
   "execution_count": 141,
   "metadata": {},
   "outputs": [
    {
     "data": {
      "text/html": [
       "<div>\n",
       "<style scoped>\n",
       "    .dataframe tbody tr th:only-of-type {\n",
       "        vertical-align: middle;\n",
       "    }\n",
       "\n",
       "    .dataframe tbody tr th {\n",
       "        vertical-align: top;\n",
       "    }\n",
       "\n",
       "    .dataframe thead th {\n",
       "        text-align: right;\n",
       "    }\n",
       "</style>\n",
       "<table border=\"1\" class=\"dataframe\">\n",
       "  <thead>\n",
       "    <tr style=\"text-align: right;\">\n",
       "      <th></th>\n",
       "      <th>position</th>\n",
       "      <th>dob</th>\n",
       "      <th>country</th>\n",
       "      <th>dob_converted</th>\n",
       "      <th>mob</th>\n",
       "    </tr>\n",
       "  </thead>\n",
       "  <tbody>\n",
       "    <tr>\n",
       "      <th>0</th>\n",
       "      <td>1GK</td>\n",
       "      <td>(2002-05-17) 17 May 2002 (age 19)</td>\n",
       "      <td>Brazil</td>\n",
       "      <td>2002-05-17</td>\n",
       "      <td>5</td>\n",
       "    </tr>\n",
       "    <tr>\n",
       "      <th>1</th>\n",
       "      <td>1GK</td>\n",
       "      <td>(2002-12-20) 20 December 2002 (age 18)</td>\n",
       "      <td>Brazil</td>\n",
       "      <td>2002-12-20</td>\n",
       "      <td>12</td>\n",
       "    </tr>\n",
       "    <tr>\n",
       "      <th>2</th>\n",
       "      <td>1GK</td>\n",
       "      <td>(2002-02-25) 25 February 2002 (age 19)</td>\n",
       "      <td>Brazil</td>\n",
       "      <td>2002-02-25</td>\n",
       "      <td>2</td>\n",
       "    </tr>\n",
       "    <tr>\n",
       "      <th>4</th>\n",
       "      <td>2DF</td>\n",
       "      <td>(2002-06-03) 3 June 2002 (age 19)</td>\n",
       "      <td>Brazil</td>\n",
       "      <td>2002-06-03</td>\n",
       "      <td>6</td>\n",
       "    </tr>\n",
       "    <tr>\n",
       "      <th>5</th>\n",
       "      <td>2DF</td>\n",
       "      <td>(2002-02-19) 19 February 2002 (age 19)</td>\n",
       "      <td>Brazil</td>\n",
       "      <td>2002-02-19</td>\n",
       "      <td>2</td>\n",
       "    </tr>\n",
       "  </tbody>\n",
       "</table>\n",
       "</div>"
      ],
      "text/plain": [
       "  position                                     dob country dob_converted  mob\n",
       "0      1GK       (2002-05-17) 17 May 2002 (age 19)  Brazil    2002-05-17    5\n",
       "1      1GK  (2002-12-20) 20 December 2002 (age 18)  Brazil    2002-12-20   12\n",
       "2      1GK  (2002-02-25) 25 February 2002 (age 19)  Brazil    2002-02-25    2\n",
       "4      2DF       (2002-06-03) 3 June 2002 (age 19)  Brazil    2002-06-03    6\n",
       "5      2DF  (2002-02-19) 19 February 2002 (age 19)  Brazil    2002-02-19    2"
      ]
     },
     "execution_count": 141,
     "metadata": {},
     "output_type": "execute_result"
    }
   ],
   "source": [
    "df.head()"
   ]
  },
  {
   "cell_type": "markdown",
   "metadata": {},
   "source": [
    "# Quick check"
   ]
  },
  {
   "cell_type": "code",
   "execution_count": 150,
   "metadata": {},
   "outputs": [
    {
     "data": {
      "text/html": [
       "<div>\n",
       "<style scoped>\n",
       "    .dataframe tbody tr th:only-of-type {\n",
       "        vertical-align: middle;\n",
       "    }\n",
       "\n",
       "    .dataframe tbody tr th {\n",
       "        vertical-align: top;\n",
       "    }\n",
       "\n",
       "    .dataframe thead th {\n",
       "        text-align: right;\n",
       "    }\n",
       "</style>\n",
       "<table border=\"1\" class=\"dataframe\">\n",
       "  <thead>\n",
       "    <tr style=\"text-align: right;\">\n",
       "      <th></th>\n",
       "      <th>mob</th>\n",
       "      <th>country</th>\n",
       "      <th>players</th>\n",
       "    </tr>\n",
       "  </thead>\n",
       "  <tbody>\n",
       "    <tr>\n",
       "      <th>0</th>\n",
       "      <td>1</td>\n",
       "      <td>Brazil</td>\n",
       "      <td>6</td>\n",
       "    </tr>\n",
       "    <tr>\n",
       "      <th>1</th>\n",
       "      <td>1</td>\n",
       "      <td>England</td>\n",
       "      <td>5</td>\n",
       "    </tr>\n",
       "    <tr>\n",
       "      <th>2</th>\n",
       "      <td>1</td>\n",
       "      <td>France</td>\n",
       "      <td>2</td>\n",
       "    </tr>\n",
       "    <tr>\n",
       "      <th>3</th>\n",
       "      <td>1</td>\n",
       "      <td>Germany</td>\n",
       "      <td>3</td>\n",
       "    </tr>\n",
       "    <tr>\n",
       "      <th>4</th>\n",
       "      <td>1</td>\n",
       "      <td>Italy</td>\n",
       "      <td>1</td>\n",
       "    </tr>\n",
       "    <tr>\n",
       "      <th>...</th>\n",
       "      <td>...</td>\n",
       "      <td>...</td>\n",
       "      <td>...</td>\n",
       "    </tr>\n",
       "    <tr>\n",
       "      <th>57</th>\n",
       "      <td>11</td>\n",
       "      <td>Vietnam</td>\n",
       "      <td>1</td>\n",
       "    </tr>\n",
       "    <tr>\n",
       "      <th>58</th>\n",
       "      <td>12</td>\n",
       "      <td>Brazil</td>\n",
       "      <td>1</td>\n",
       "    </tr>\n",
       "    <tr>\n",
       "      <th>59</th>\n",
       "      <td>12</td>\n",
       "      <td>England</td>\n",
       "      <td>1</td>\n",
       "    </tr>\n",
       "    <tr>\n",
       "      <th>60</th>\n",
       "      <td>12</td>\n",
       "      <td>Italy</td>\n",
       "      <td>1</td>\n",
       "    </tr>\n",
       "    <tr>\n",
       "      <th>61</th>\n",
       "      <td>12</td>\n",
       "      <td>Vietnam</td>\n",
       "      <td>1</td>\n",
       "    </tr>\n",
       "  </tbody>\n",
       "</table>\n",
       "<p>62 rows × 3 columns</p>\n",
       "</div>"
      ],
      "text/plain": [
       "    mob  country  players\n",
       "0     1   Brazil        6\n",
       "1     1  England        5\n",
       "2     1   France        2\n",
       "3     1  Germany        3\n",
       "4     1    Italy        1\n",
       "..  ...      ...      ...\n",
       "57   11  Vietnam        1\n",
       "58   12   Brazil        1\n",
       "59   12  England        1\n",
       "60   12    Italy        1\n",
       "61   12  Vietnam        1\n",
       "\n",
       "[62 rows x 3 columns]"
      ]
     },
     "execution_count": 150,
     "metadata": {},
     "output_type": "execute_result"
    }
   ],
   "source": [
    "agg = df.groupby(['mob', 'country'])['dob'].count().reset_index(name='players')\n",
    "agg"
   ]
  },
  {
   "cell_type": "code",
   "execution_count": 161,
   "metadata": {},
   "outputs": [
    {
     "data": {
      "text/plain": [
       "<AxesSubplot:xlabel='mob', ylabel='players'>"
      ]
     },
     "execution_count": 161,
     "metadata": {},
     "output_type": "execute_result"
    },
    {
     "data": {
      "image/png": "[encoded data removed]",
      "text/plain": [
       "<Figure size 432x288 with 1 Axes>"
      ]
     },
     "metadata": {},
     "output_type": "display_data"
    }
   ],
   "source": [
    "sns.barplot(data=agg, x='mob', y='players', color='DarkBlue', ci=None)"
   ]
  },
  {
   "cell_type": "code",
   "execution_count": 153,
   "metadata": {},
   "outputs": [],
   "source": [
    "agg_pivot = pd.pivot_table(agg, values='players', index='mob', columns='country')"
   ]
  },
  {
   "cell_type": "code",
   "execution_count": 164,
   "metadata": {},
   "outputs": [
    {
     "data": {
      "text/plain": [
       "array([[<AxesSubplot:title={'center':'Brazil'}, xlabel='mob'>,\n",
       "        <AxesSubplot:title={'center':'England'}, xlabel='mob'>,\n",
       "        <AxesSubplot:title={'center':'France'}, xlabel='mob'>],\n",
       "       [<AxesSubplot:title={'center':'Germany'}, xlabel='mob'>,\n",
       "        <AxesSubplot:title={'center':'Italy'}, xlabel='mob'>,\n",
       "        <AxesSubplot:title={'center':'Vietnam'}, xlabel='mob'>]],\n",
       "      dtype=object)"
      ]
     },
     "execution_count": 164,
     "metadata": {},
     "output_type": "execute_result"
    },
    {
     "data": {
      "image/png": "[encoded data removed]",
      "text/plain": [
       "<Figure size 720x432 with 6 Axes>"
      ]
     },
     "metadata": {},
     "output_type": "display_data"
    },
    {
     "name": "stdout",
     "output_type": "stream",
     "text": [
      "Executing shutdown due to inactivity...\n"
     ]
    },
    {
     "name": "stderr",
     "output_type": "stream",
     "text": [
      "2021-08-07 12:13:39,696 - INFO     - Executing shutdown due to inactivity...\n"
     ]
    },
    {
     "name": "stdout",
     "output_type": "stream",
     "text": [
      "Executing shutdown...\n"
     ]
    },
    {
     "name": "stderr",
     "output_type": "stream",
     "text": [
      "2021-08-07 12:13:40,036 - INFO     - Executing shutdown...\n"
     ]
    }
   ],
   "source": [
    "agg_pivot.plot(kind='bar', subplots=True, layout=(2,3), figsize=(10,6))"
   ]
  },
  {
   "cell_type": "markdown",
   "metadata": {},
   "source": [
    "# Export"
   ]
  },
  {
   "cell_type": "code",
   "execution_count": 157,
   "metadata": {},
   "outputs": [],
   "source": [
    "df.to_csv('young_footballer.csv')"
   ]
  },
  {
   "cell_type": "code",
   "execution_count": null,
   "metadata": {},
   "outputs": [],
   "source": []
  }
 ],
 "metadata": {
  "kernelspec": {
   "display_name": "Python 3",
   "language": "python",
   "name": "python3"
  },
  "language_info": {
   "codemirror_mode": {
    "name": "ipython",
    "version": 3
   },
   "file_extension": ".py",
   "mimetype": "text/x-python",
   "name": "python",
   "nbconvert_exporter": "python",
   "pygments_lexer": "ipython3",
   "version": "3.7.4"
  }
 },
 "nbformat": 4,
 "nbformat_minor": 2
}
